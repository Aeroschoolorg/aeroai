{
 "cells": [
  {
   "cell_type": "markdown",
   "metadata": {},
   "source": [
    "## Chuyển động thẳng đều"
   ]
  },
  {
   "cell_type": "markdown",
   "metadata": {},
   "source": [
    "### Các công thức của chuyển động thẳng đều  \n",
    "\n",
    "#### 1. Phương trình chuyển động  \n",
    "Phương trình xác định vị trí của vật theo thời gian:  \n",
    "\n",
    "$$\n",
    "x = x_0 + v \\cdot t\n",
    "$$  \n",
    "\n",
    "Trong đó:  \n",
    "- \\( x \\) là vị trí của vật tại thời điểm \\( t \\).  \n",
    "- \\( x_0 \\) là vị trí ban đầu của vật.  \n",
    "- \\( v \\) là vận tốc không đổi của vật.  \n",
    "- \\( t \\) là thời gian chuyển động.  \n",
    "\n",
    "#### 2. Công thức tính vận tốc  \n",
    "Vận tốc của vật trong chuyển động thẳng đều được xác định bằng:  \n",
    "\n",
    "$$\n",
    "v = \\frac{\\Delta x}{\\Delta t}\n",
    "$$  \n",
    "\n",
    "Với:  \n",
    "- v là vận tốc của vật.  \n",
    "- \\Delta x = x - x_0 là quãng đường vật đi được trong khoảng thời gian \\Delta t.  \n",
    "- \\Delta t là khoảng thời gian đi quãng đường \\Delta x.  \n",
    "\n",
    "#### 3. Đồ thị chuyển động  \n",
    "- Trong hệ trục tọa độ \\{ (t, x) \\}, quỹ đạo của vật là một đường thẳng có phương trình \\{ x = x_0 + v t \\}.  \n",
    "- Độ dốc của đường thẳng này chính là vận tốc \\{ v \\}, nếu \\{ v > 0 \\} thì vật chuyển động theo chiều dương, ngược lại nếu \\{ v < 0 \\} thì vật chuyển động theo chiều âm.  "
   ]
  }
 ],
 "metadata": {
  "language_info": {
   "name": "python"
  }
 },
 "nbformat": 4,
 "nbformat_minor": 2
}
